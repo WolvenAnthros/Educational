{
 "cells": [
  {
   "cell_type": "code",
   "execution_count": 1,
   "id": "80b657cf-d645-4a8d-9ea4-dcbb7ed741df",
   "metadata": {},
   "outputs": [
    {
     "ename": "ModuleNotFoundError",
     "evalue": "No module named 'Educational'",
     "output_type": "error",
     "traceback": [
      "\u001b[1;31m---------------------------------------------------------------------------\u001b[0m",
      "\u001b[1;31mModuleNotFoundError\u001b[0m                       Traceback (most recent call last)",
      "Cell \u001b[1;32mIn[1], line 5\u001b[0m\n\u001b[0;32m      3\u001b[0m \u001b[38;5;28;01mfrom\u001b[39;00m \u001b[38;5;21;01mtyping\u001b[39;00m \u001b[38;5;28;01mimport\u001b[39;00m Callable\n\u001b[0;32m      4\u001b[0m \u001b[38;5;28;01mfrom\u001b[39;00m \u001b[38;5;21;01mstable_baselines3\u001b[39;00m \u001b[38;5;28;01mimport\u001b[39;00m PPO\n\u001b[1;32m----> 5\u001b[0m \u001b[38;5;28;01mfrom\u001b[39;00m \u001b[38;5;21;01mEducational\u001b[39;00m\u001b[38;5;21;01m.\u001b[39;00m\u001b[38;5;21;01margs\u001b[39;00m \u001b[38;5;28;01mimport\u001b[39;00m args\n\u001b[0;32m      6\u001b[0m \u001b[38;5;28;01mfrom\u001b[39;00m \u001b[38;5;21;01mEducational\u001b[39;00m\u001b[38;5;21;01m.\u001b[39;00m\u001b[38;5;21;01mSFQenv\u001b[39;00m \u001b[38;5;28;01mimport\u001b[39;00m SFQ\n\u001b[0;32m      7\u001b[0m \u001b[38;5;28;01mfrom\u001b[39;00m \u001b[38;5;21;01mstable_baselines3\u001b[39;00m \u001b[38;5;28;01mimport\u001b[39;00m PPO\n",
      "\u001b[1;31mModuleNotFoundError\u001b[0m: No module named 'Educational'"
     ]
    }
   ],
   "source": [
    "import gymnasium as gym\n",
    "import wandb\n",
    "from typing import Callable\n",
    "from stable_baselines3 import PPO\n",
    "from Educational.args import args\n",
    "from Educational.SFQenv import SFQ\n",
    "from stable_baselines3 import PPO\n",
    "from stable_baselines3.common.policies import ActorCriticPolicy\n",
    "from stable_baselines3.common.env_util import make_vec_env\n",
    "from stable_baselines3.common.callbacks import BaseCallback\n",
    "from stable_baselines3.common.logger import HParam\n",
    "from wandb.integration.sb3 import WandbCallback\n",
    "from pprint import pprint"
   ]
  },
  {
   "cell_type": "code",
   "execution_count": 2,
   "id": "e15dff4a-061d-4fff-9218-2cf3830df018",
   "metadata": {},
   "outputs": [
    {
     "name": "stderr",
     "output_type": "stream",
     "text": [
      "\u001b[34m\u001b[1mwandb\u001b[0m: Currently logged in as: \u001b[33mdonalexs12\u001b[0m. Use \u001b[1m`wandb login --relogin`\u001b[0m to force relogin\n"
     ]
    },
    {
     "data": {
      "text/plain": [
       "True"
      ]
     },
     "execution_count": 2,
     "metadata": {},
     "output_type": "execute_result"
    }
   ],
   "source": [
    "wandb.login()"
   ]
  },
  {
   "cell_type": "code",
   "execution_count": 3,
   "id": "0e8c6a57-bfc9-40ca-8b6b-f9c91074884f",
   "metadata": {},
   "outputs": [],
   "source": [
    "sweep_config = {\n",
    "    'method': 'random',\n",
    "    'early_terminate':{\n",
    "        'type':'hyperband',\n",
    "        'eta':2,\n",
    "        'min_iter':90,\n",
    "        's':3\n",
    "    }\n",
    "    }"
   ]
  },
  {
   "cell_type": "code",
   "execution_count": 4,
   "id": "9de52b44-afcc-42cd-9e2f-49dc57276ae0",
   "metadata": {},
   "outputs": [],
   "source": [
    "metric = {\n",
    "    'name': 'rollout/ep_rew_mean',\n",
    "    'goal': 'maximize',\n",
    "    'target':40\n",
    "    }\n",
    "\n",
    "sweep_config['metric'] = metric"
   ]
  },
  {
   "cell_type": "code",
   "execution_count": 5,
   "id": "7a869e60-8a31-42f7-b534-b71eb429f0f0",
   "metadata": {},
   "outputs": [],
   "source": [
    "parameters_dict = {\n",
    "    'ent_coef': {\n",
    "        'values': [0.00001, 0.0001, 0.001, 0.01]\n",
    "    },\n",
    "    # 'policy_layer_size': {\n",
    "    #     'values': [64, 128, 256]\n",
    "    # },\n",
    "    # 'value_layer_size': {\n",
    "    #     'values': [64, 128, 256]\n",
    "    # },\n",
    "    'vf_coef':{\n",
    "        'values':[0.25,0.5,0.75]\n",
    "    },\n",
    "    'n_epochs':{\n",
    "        'values':[5,10,15]\n",
    "    }\n",
    "}"
   ]
  },
  {
   "cell_type": "code",
   "execution_count": 6,
   "id": "9db680fd-e8a0-4ec4-9c8f-e32f20a01928",
   "metadata": {},
   "outputs": [],
   "source": [
    "parameters_dict.update({\n",
    "    'learning_rate': {\n",
    "        # a flat distribution between 0 and 0.1\n",
    "        'distribution': 'uniform',\n",
    "        'min': 0,\n",
    "        'max': 0.1\n",
    "    },\n",
    "    'batch_size': {\n",
    "        'distribution': 'q_log_uniform_values',\n",
    "        'q': 8,\n",
    "        'min': 100,\n",
    "        'max': 6000\n",
    "    }\n",
    "})"
   ]
  },
  {
   "cell_type": "code",
   "execution_count": 7,
   "id": "f49e4892-2c4e-4c9f-9781-71c9babe1464",
   "metadata": {},
   "outputs": [],
   "source": [
    "sweep_config['parameters']=parameters_dict"
   ]
  },
  {
   "cell_type": "code",
   "execution_count": 8,
   "id": "74137320-66ad-432b-85c5-551ce380cad2",
   "metadata": {},
   "outputs": [
    {
     "name": "stdout",
     "output_type": "stream",
     "text": [
      "{'early_terminate': {'eta': 2, 'min_iter': 90, 's': 3, 'type': 'hyperband'},\n",
      " 'method': 'random',\n",
      " 'metric': {'goal': 'minimize', 'name': 'train/loss'},\n",
      " 'parameters': {'batch_size': {'distribution': 'q_log_uniform_values',\n",
      "                               'max': 6000,\n",
      "                               'min': 100,\n",
      "                               'q': 8},\n",
      "                'ent_coef': {'values': [1e-05, 0.0001, 0.001, 0.01]},\n",
      "                'learning_rate': {'distribution': 'uniform',\n",
      "                                  'max': 0.1,\n",
      "                                  'min': 0},\n",
      "                'n_epochs': {'values': [5, 10, 15]},\n",
      "                'vf_coef': {'values': [0.25, 0.5, 0.75]}}}\n"
     ]
    }
   ],
   "source": [
    "pprint(sweep_config)"
   ]
  },
  {
   "cell_type": "code",
   "execution_count": 9,
   "id": "475b2791-da04-4747-b834-59853b663bc6",
   "metadata": {},
   "outputs": [
    {
     "name": "stdout",
     "output_type": "stream",
     "text": [
      "Create sweep with ID: b8wy3uaa\n",
      "Sweep URL: https://wandb.ai/donalexs12/SFQsweep/sweeps/b8wy3uaa\n"
     ]
    }
   ],
   "source": [
    "sweep_id = wandb.sweep(sweep_config, project=\"SFQsweep\")"
   ]
  },
  {
   "cell_type": "code",
   "execution_count": 10,
   "id": "fb75fce1-3e88-4476-b573-d0d8ef0b8557",
   "metadata": {},
   "outputs": [],
   "source": [
    "def linear_schedule(initial_value: float) -> Callable[[float], float]:\n",
    "    \"\"\"\n",
    "    Linear learning rate schedule.\n",
    "\n",
    "    :param initial_value: Initial learning rate.\n",
    "    :return: schedule that computes\n",
    "      current learning rate depending on remaining progress\n",
    "    \"\"\"\n",
    "\n",
    "    def func(progress_remaining: float) -> float:\n",
    "        \"\"\"\n",
    "        Progress will decrease from 1 (beginning) to 0.\n",
    "\n",
    "        :param progress_remaining:\n",
    "        :return: current learning rate\n",
    "        \"\"\"\n",
    "        return progress_remaining * initial_value\n",
    "\n",
    "    return func"
   ]
  },
  {
   "cell_type": "code",
   "execution_count": 11,
   "id": "816f8b2a-0443-4f0a-ab6d-97d810e74861",
   "metadata": {},
   "outputs": [],
   "source": [
    "def train_PPO(config=None):\n",
    "    with wandb.init(config=config,\n",
    "                    sync_tensorboard=True,\n",
    "                    project='SFQ_hyperparam'):\n",
    "        config=wandb.config\n",
    "        env = SFQ()\n",
    "        vec_env = make_vec_env(SFQ, n_envs=14)\n",
    "        # policy_layer_size = config.policy_layer_size\n",
    "        # value_layer_size = config.value_layer_size\n",
    "        # policy = ActorCriticPolicy(net_arch=dict(pi=[policy_layer_size,policy_layer_size], vf = [value_layer_size,value_layer_size]))\n",
    "        model = PPO(\"MlpPolicy\",vec_env,\n",
    "                    verbose=0,\n",
    "                    batch_size=config.batch_size,\n",
    "                    ent_coef=config.ent_coef,\n",
    "                    learning_rate=linear_schedule(config.learning_rate),\n",
    "                    tensorboard_log=f\"new_PPO_runs/\")\n",
    "        model.learn(\n",
    "            total_timesteps=int(10e6),\n",
    "            callback=WandbCallback(\n",
    "                                   gradient_save_freq=100,\n",
    "                                   model_save_path=f\"models/\",)\n",
    "        )"
   ]
  },
  {
   "cell_type": "code",
   "execution_count": null,
   "id": "284350e8-b0d7-41ed-9b2b-5c18f64684ef",
   "metadata": {},
   "outputs": [
    {
     "name": "stderr",
     "output_type": "stream",
     "text": [
      "\u001b[34m\u001b[1mwandb\u001b[0m: Agent Starting Run: 3axjm25r with config:\n",
      "\u001b[34m\u001b[1mwandb\u001b[0m: \tbatch_size: 2424\n",
      "\u001b[34m\u001b[1mwandb\u001b[0m: \tent_coef: 0.001\n",
      "\u001b[34m\u001b[1mwandb\u001b[0m: \tlearning_rate: 0.09126489294346882\n",
      "\u001b[34m\u001b[1mwandb\u001b[0m: \tn_epochs: 5\n",
      "\u001b[34m\u001b[1mwandb\u001b[0m: \tvf_coef: 0.25\n",
      "\u001b[34m\u001b[1mwandb\u001b[0m: \u001b[33mWARNING\u001b[0m Ignored wandb.init() arg project when running a sweep.\n"
     ]
    },
    {
     "data": {
      "text/html": [
       "Tracking run with wandb version 0.15.12"
      ],
      "text/plain": [
       "<IPython.core.display.HTML object>"
      ]
     },
     "metadata": {},
     "output_type": "display_data"
    },
    {
     "data": {
      "text/html": [
       "Run data is saved locally in <code>C:\\Users\\user\\PycharmProjects\\Educational\\wandb\\run-20231101_192453-3axjm25r</code>"
      ],
      "text/plain": [
       "<IPython.core.display.HTML object>"
      ]
     },
     "metadata": {},
     "output_type": "display_data"
    },
    {
     "data": {
      "text/html": [
       "Syncing run <strong><a href='https://wandb.ai/donalexs12/SFQsweep/runs/3axjm25r' target=\"_blank\">lyric-sweep-1</a></strong> to <a href='https://wandb.ai/donalexs12/SFQsweep' target=\"_blank\">Weights & Biases</a> (<a href='https://wandb.me/run' target=\"_blank\">docs</a>)<br/>Sweep page: <a href='https://wandb.ai/donalexs12/SFQsweep/sweeps/b8wy3uaa' target=\"_blank\">https://wandb.ai/donalexs12/SFQsweep/sweeps/b8wy3uaa</a>"
      ],
      "text/plain": [
       "<IPython.core.display.HTML object>"
      ]
     },
     "metadata": {},
     "output_type": "display_data"
    },
    {
     "data": {
      "text/html": [
       " View project at <a href='https://wandb.ai/donalexs12/SFQsweep' target=\"_blank\">https://wandb.ai/donalexs12/SFQsweep</a>"
      ],
      "text/plain": [
       "<IPython.core.display.HTML object>"
      ]
     },
     "metadata": {},
     "output_type": "display_data"
    },
    {
     "data": {
      "text/html": [
       " View sweep at <a href='https://wandb.ai/donalexs12/SFQsweep/sweeps/b8wy3uaa' target=\"_blank\">https://wandb.ai/donalexs12/SFQsweep/sweeps/b8wy3uaa</a>"
      ],
      "text/plain": [
       "<IPython.core.display.HTML object>"
      ]
     },
     "metadata": {},
     "output_type": "display_data"
    },
    {
     "data": {
      "text/html": [
       " View run at <a href='https://wandb.ai/donalexs12/SFQsweep/runs/3axjm25r' target=\"_blank\">https://wandb.ai/donalexs12/SFQsweep/runs/3axjm25r</a>"
      ],
      "text/plain": [
       "<IPython.core.display.HTML object>"
      ]
     },
     "metadata": {},
     "output_type": "display_data"
    },
    {
     "name": "stderr",
     "output_type": "stream",
     "text": [
      "C:\\Users\\user\\PycharmProjects\\Educational\\venv\\lib\\site-packages\\stable_baselines3\\ppo\\ppo.py:154: UserWarning: You have specified a mini-batch size of 2424, but because the `RolloutBuffer` is of size `n_steps * n_envs = 28672`, after every 11 untruncated mini-batches, there will be a truncated mini-batch of size 2008\n",
      "We recommend using a `batch_size` that is a factor of `n_steps * n_envs`.\n",
      "Info: (n_steps=2048 and n_envs=14)\n",
      "  warnings.warn(\n",
      "C:\\Users\\user\\PycharmProjects\\Educational\\Educational\\SFQ_calc.py:99: NumbaPerformanceWarning: \u001b[1m\u001b[1m'@' is faster on contiguous arrays, called on (Array(complex128, 2, 'C', True, aligned=True), Array(complex128, 2, 'A', True, aligned=True))\u001b[0m\u001b[0m\n",
      "  ket = u_matrix @ alpha_state\n"
     ]
    },
    {
     "data": {
      "text/html": [
       "Waiting for W&B process to finish... <strong style=\"color:green\">(success).</strong>"
      ],
      "text/plain": [
       "<IPython.core.display.HTML object>"
      ]
     },
     "metadata": {},
     "output_type": "display_data"
    },
    {
     "data": {
      "text/html": [
       "<style>\n",
       "    table.wandb td:nth-child(1) { padding: 0 10px; text-align: left ; width: auto;} td:nth-child(2) {text-align: left ; width: 100%}\n",
       "    .wandb-row { display: flex; flex-direction: row; flex-wrap: wrap; justify-content: flex-start; width: 100% }\n",
       "    .wandb-col { display: flex; flex-direction: column; flex-basis: 100%; flex: 1; padding: 10px; }\n",
       "    </style>\n",
       "<div class=\"wandb-row\"><div class=\"wandb-col\"><h3>Run history:</h3><br/><table class=\"wandb\"><tr><td>global_step</td><td>▁▁▁▁▂▂▂▂▂▃▃▃▃▃▃▄▄▄▄▄▅▅▅▅▅▅▆▆▆▆▆▇▇▇▇▇▇███</td></tr><tr><td>rollout/ep_len_mean</td><td>▁▁▁▁▁▁▁▁▁▁▁▁▁▁▁▁▁▁▁▁▁▁▁▁▁▁▁▁▁▁▁▁▁▁▁▁▁▁▁▁</td></tr><tr><td>rollout/ep_rew_mean</td><td>▁█▄▄▄▄▄▄▄▄▄▄▄▄▄▄▄▄▄▄▄▄▄▄▄▄▄▄▄▄▄▄▄▄▄▄▄▄▄▄</td></tr><tr><td>time/fps</td><td>▂▁█▇▅▃▄▄▅▅▃▄▄▄▄▅▅▅▅▅▆▆▅▄▄▄▄▄▄▄▅▅▅▅▅▆▆▆▆▆</td></tr><tr><td>train/approx_kl</td><td>▃█▁▁▁▁▁▁▁▁▁▁▁▁▁▁▁▁▁▁▁▁▁▁▁▁▁▁▁▁▁▁▁▁▁▁▁▁▁▁</td></tr><tr><td>train/clip_fraction</td><td>█▆▁▁▁▁▁▁▁▁▁▁▁▁▁▁▁▁▁▁▁▁▁▁▁▁▁▁▁▁▁▁▁▁▁▁▁▁▁▁</td></tr><tr><td>train/clip_range</td><td>▁▁▁▁▁▁▁▁▁▁▁▁▁▁▁▁▁▁▁▁▁▁▁▁▁▁▁▁▁▁▁▁▁▁▁▁▁▁▁▁</td></tr><tr><td>train/entropy_loss</td><td>▁▆██████████████████████████████████████</td></tr><tr><td>train/explained_variance</td><td>▇█▁▁▁▁▁▁▁▁▁▁▁▁▁▁▁▁▁▁▁▁▁▁▁▁▁▁▁▁▁▁▁▁▁▁▁▁▁▁</td></tr><tr><td>train/learning_rate</td><td>████▇▇▇▇▇▆▆▆▆▆▆▅▅▅▅▅▄▄▄▄▄▄▃▃▃▃▃▂▂▂▂▂▂▁▁▁</td></tr><tr><td>train/loss</td><td>▁▅█▇▆▅▄▅▅▅▇▆▅▇▆▆▆▆▅▆▆▆▅▆▅▆▇▆▆▇▆▆▆▇▅▆▆▅▆▅</td></tr><tr><td>train/policy_gradient_loss</td><td>▂█▁▁▁▁▁▁▁▁▁▁▁▁▁▁▁▁▁▁▁▁▁▁▁▁▁▁▁▁▁▁▁▁▁▁▁▁▁▁</td></tr><tr><td>train/value_loss</td><td>▁▄█▅▂▃▂▂▄▃▄▃▃▃▄▅▄▃▃▃▄▄▄▄▃▄▄▅▄▄▃▃▄▃▄▃▃▃▄▃</td></tr></table><br/></div><div class=\"wandb-col\"><h3>Run summary:</h3><br/><table class=\"wandb\"><tr><td>global_step</td><td>10006528</td></tr><tr><td>rollout/ep_len_mean</td><td>125.0</td></tr><tr><td>rollout/ep_rew_mean</td><td>66.62041</td></tr><tr><td>time/fps</td><td>9129.0</td></tr><tr><td>train/approx_kl</td><td>0.0</td></tr><tr><td>train/clip_fraction</td><td>0.0</td></tr><tr><td>train/clip_range</td><td>0.2</td></tr><tr><td>train/entropy_loss</td><td>0.0</td></tr><tr><td>train/explained_variance</td><td>0.0</td></tr><tr><td>train/learning_rate</td><td>0.0002</td></tr><tr><td>train/loss</td><td>38.05531</td></tr><tr><td>train/policy_gradient_loss</td><td>0.0</td></tr><tr><td>train/value_loss</td><td>79.93389</td></tr></table><br/></div></div>"
      ],
      "text/plain": [
       "<IPython.core.display.HTML object>"
      ]
     },
     "metadata": {},
     "output_type": "display_data"
    },
    {
     "data": {
      "text/html": [
       " View run <strong style=\"color:#cdcd00\">lyric-sweep-1</strong> at: <a href='https://wandb.ai/donalexs12/SFQsweep/runs/3axjm25r' target=\"_blank\">https://wandb.ai/donalexs12/SFQsweep/runs/3axjm25r</a><br/>Synced 5 W&B file(s), 0 media file(s), 0 artifact file(s) and 2 other file(s)"
      ],
      "text/plain": [
       "<IPython.core.display.HTML object>"
      ]
     },
     "metadata": {},
     "output_type": "display_data"
    },
    {
     "data": {
      "text/html": [
       "Find logs at: <code>.\\wandb\\run-20231101_192453-3axjm25r\\logs</code>"
      ],
      "text/plain": [
       "<IPython.core.display.HTML object>"
      ]
     },
     "metadata": {},
     "output_type": "display_data"
    },
    {
     "name": "stderr",
     "output_type": "stream",
     "text": [
      "\u001b[34m\u001b[1mwandb\u001b[0m: Agent Starting Run: yl90gel6 with config:\n",
      "\u001b[34m\u001b[1mwandb\u001b[0m: \tbatch_size: 560\n",
      "\u001b[34m\u001b[1mwandb\u001b[0m: \tent_coef: 0.001\n",
      "\u001b[34m\u001b[1mwandb\u001b[0m: \tlearning_rate: 0.07973987421998159\n",
      "\u001b[34m\u001b[1mwandb\u001b[0m: \tn_epochs: 5\n",
      "\u001b[34m\u001b[1mwandb\u001b[0m: \tvf_coef: 0.25\n",
      "\u001b[34m\u001b[1mwandb\u001b[0m: \u001b[33mWARNING\u001b[0m Ignored wandb.init() arg project when running a sweep.\n"
     ]
    },
    {
     "data": {
      "text/html": [
       "Tracking run with wandb version 0.15.12"
      ],
      "text/plain": [
       "<IPython.core.display.HTML object>"
      ]
     },
     "metadata": {},
     "output_type": "display_data"
    },
    {
     "data": {
      "text/html": [
       "Run data is saved locally in <code>C:\\Users\\user\\PycharmProjects\\Educational\\wandb\\run-20231101_194334-yl90gel6</code>"
      ],
      "text/plain": [
       "<IPython.core.display.HTML object>"
      ]
     },
     "metadata": {},
     "output_type": "display_data"
    },
    {
     "data": {
      "text/html": [
       "Syncing run <strong><a href='https://wandb.ai/donalexs12/SFQsweep/runs/yl90gel6' target=\"_blank\">tough-sweep-2</a></strong> to <a href='https://wandb.ai/donalexs12/SFQsweep' target=\"_blank\">Weights & Biases</a> (<a href='https://wandb.me/run' target=\"_blank\">docs</a>)<br/>Sweep page: <a href='https://wandb.ai/donalexs12/SFQsweep/sweeps/b8wy3uaa' target=\"_blank\">https://wandb.ai/donalexs12/SFQsweep/sweeps/b8wy3uaa</a>"
      ],
      "text/plain": [
       "<IPython.core.display.HTML object>"
      ]
     },
     "metadata": {},
     "output_type": "display_data"
    },
    {
     "data": {
      "text/html": [
       " View project at <a href='https://wandb.ai/donalexs12/SFQsweep' target=\"_blank\">https://wandb.ai/donalexs12/SFQsweep</a>"
      ],
      "text/plain": [
       "<IPython.core.display.HTML object>"
      ]
     },
     "metadata": {},
     "output_type": "display_data"
    },
    {
     "data": {
      "text/html": [
       " View sweep at <a href='https://wandb.ai/donalexs12/SFQsweep/sweeps/b8wy3uaa' target=\"_blank\">https://wandb.ai/donalexs12/SFQsweep/sweeps/b8wy3uaa</a>"
      ],
      "text/plain": [
       "<IPython.core.display.HTML object>"
      ]
     },
     "metadata": {},
     "output_type": "display_data"
    },
    {
     "data": {
      "text/html": [
       " View run at <a href='https://wandb.ai/donalexs12/SFQsweep/runs/yl90gel6' target=\"_blank\">https://wandb.ai/donalexs12/SFQsweep/runs/yl90gel6</a>"
      ],
      "text/plain": [
       "<IPython.core.display.HTML object>"
      ]
     },
     "metadata": {},
     "output_type": "display_data"
    },
    {
     "name": "stderr",
     "output_type": "stream",
     "text": [
      "C:\\Users\\user\\PycharmProjects\\Educational\\venv\\lib\\site-packages\\stable_baselines3\\ppo\\ppo.py:154: UserWarning: You have specified a mini-batch size of 560, but because the `RolloutBuffer` is of size `n_steps * n_envs = 28672`, after every 51 untruncated mini-batches, there will be a truncated mini-batch of size 112\n",
      "We recommend using a `batch_size` that is a factor of `n_steps * n_envs`.\n",
      "Info: (n_steps=2048 and n_envs=14)\n",
      "  warnings.warn(\n",
      "\u001b[34m\u001b[1mwandb\u001b[0m: \u001b[33mWARNING\u001b[0m When using several event log directories, please call `wandb.tensorboard.patch(root_logdir=\"...\")` before `wandb.init`\n"
     ]
    },
    {
     "data": {
      "text/html": [
       "Waiting for W&B process to finish... <strong style=\"color:green\">(success).</strong>"
      ],
      "text/plain": [
       "<IPython.core.display.HTML object>"
      ]
     },
     "metadata": {},
     "output_type": "display_data"
    },
    {
     "data": {
      "text/html": [
       "<style>\n",
       "    table.wandb td:nth-child(1) { padding: 0 10px; text-align: left ; width: auto;} td:nth-child(2) {text-align: left ; width: 100%}\n",
       "    .wandb-row { display: flex; flex-direction: row; flex-wrap: wrap; justify-content: flex-start; width: 100% }\n",
       "    .wandb-col { display: flex; flex-direction: column; flex-basis: 100%; flex: 1; padding: 10px; }\n",
       "    </style>\n",
       "<div class=\"wandb-row\"><div class=\"wandb-col\"><h3>Run history:</h3><br/><table class=\"wandb\"><tr><td>global_step</td><td>▁▁▁▁▂▂▂▂▂▃▃▃▃▃▃▄▄▄▄▄▅▅▅▅▅▅▆▆▆▆▆▇▇▇▇▇▇███</td></tr><tr><td>rollout/ep_len_mean</td><td>▁▁▁▁▁▁▁▁▁▁▁▁▁▁▁▁▁▁▁▁▁▁▁▁▁▁▁▁▁▁▁▁▁▁▁▁▁▁▁▁</td></tr><tr><td>rollout/ep_rew_mean</td><td>▁███████████████████████████████████████</td></tr><tr><td>time/fps</td><td>█▂▂▂▁▂▂▂▃▃▃▄▄▄▄▅▅▅▅▅▄▄▄▄▃▃▃▃▃▃▂▂▂▂▂▁▁▁▁▁</td></tr><tr><td>train/approx_kl</td><td>█▁▁▁▁▁▁▁▁▁▁▁▁▁▁▁▁▁▁▁▁▁▁▁▁▁▁▁▁▁▁▁▁▁▁▁▁▁▁▁</td></tr><tr><td>train/clip_fraction</td><td>█▁▁▁▁▁▁▁▁▁▁▁▁▁▁▁▁▁▁▁▁▁▁▁▁▁▁▁▁▁▁▁▁▁▁▁▁▁▁▁</td></tr><tr><td>train/clip_range</td><td>▁▁▁▁▁▁▁▁▁▁▁▁▁▁▁▁▁▁▁▁▁▁▁▁▁▁▁▁▁▁▁▁▁▁▁▁▁▁▁▁</td></tr><tr><td>train/entropy_loss</td><td>▁███████████████████████████████████████</td></tr><tr><td>train/explained_variance</td><td>█▁▁▁▁▁▁▁▁▁▁▁▁▁▁▁▁▁▁▁▁▁▁▁▁▁▁▁▁▁▁▁▁▁▁▁▁▁▁▁</td></tr><tr><td>train/learning_rate</td><td>████▇▇▇▇▇▆▆▆▆▆▆▅▅▅▅▅▄▄▄▄▄▄▃▃▃▃▃▂▂▂▂▂▂▁▁▁</td></tr><tr><td>train/loss</td><td>▂▅▅▇▅▃█▅▅▃▄▇▃▂▁▃▆▅▅█▆▄▃▂▃▃▃▄▃▅▆▃▄▃█▆▅▆█▁</td></tr><tr><td>train/policy_gradient_loss</td><td>█▁▁▁▁▁▁▁▁▁▁▁▁▁▁▁▁▁▁▁▁▁▁▁▁▁▁▁▁▁▁▁▁▁▁▁▁▁▁▁</td></tr><tr><td>train/value_loss</td><td>▁█▅▇▆▆▆▅▆▅▆▅█▅▆▆▆▇▆▆▆▆▇▇▆▆▆▆▆▅▅▅▆▇▆▆▅▆▆▅</td></tr></table><br/></div><div class=\"wandb-col\"><h3>Run summary:</h3><br/><table class=\"wandb\"><tr><td>global_step</td><td>10006528</td></tr><tr><td>rollout/ep_len_mean</td><td>125.0</td></tr><tr><td>rollout/ep_rew_mean</td><td>66.62041</td></tr><tr><td>time/fps</td><td>6100.0</td></tr><tr><td>train/approx_kl</td><td>0.0</td></tr><tr><td>train/clip_fraction</td><td>0.0</td></tr><tr><td>train/clip_range</td><td>0.2</td></tr><tr><td>train/entropy_loss</td><td>-0.0</td></tr><tr><td>train/explained_variance</td><td>0.0</td></tr><tr><td>train/learning_rate</td><td>0.00018</td></tr><tr><td>train/loss</td><td>27.41513</td></tr><tr><td>train/policy_gradient_loss</td><td>-0.0</td></tr><tr><td>train/value_loss</td><td>79.93455</td></tr></table><br/></div></div>"
      ],
      "text/plain": [
       "<IPython.core.display.HTML object>"
      ]
     },
     "metadata": {},
     "output_type": "display_data"
    },
    {
     "data": {
      "text/html": [
       " View run <strong style=\"color:#cdcd00\">tough-sweep-2</strong> at: <a href='https://wandb.ai/donalexs12/SFQsweep/runs/yl90gel6' target=\"_blank\">https://wandb.ai/donalexs12/SFQsweep/runs/yl90gel6</a><br/>Synced 5 W&B file(s), 0 media file(s), 0 artifact file(s) and 2 other file(s)"
      ],
      "text/plain": [
       "<IPython.core.display.HTML object>"
      ]
     },
     "metadata": {},
     "output_type": "display_data"
    },
    {
     "data": {
      "text/html": [
       "Find logs at: <code>.\\wandb\\run-20231101_194334-yl90gel6\\logs</code>"
      ],
      "text/plain": [
       "<IPython.core.display.HTML object>"
      ]
     },
     "metadata": {},
     "output_type": "display_data"
    },
    {
     "name": "stderr",
     "output_type": "stream",
     "text": [
      "\u001b[34m\u001b[1mwandb\u001b[0m: Agent Starting Run: sssl2qv4 with config:\n",
      "\u001b[34m\u001b[1mwandb\u001b[0m: \tbatch_size: 216\n",
      "\u001b[34m\u001b[1mwandb\u001b[0m: \tent_coef: 0.0001\n",
      "\u001b[34m\u001b[1mwandb\u001b[0m: \tlearning_rate: 0.09720920383134918\n",
      "\u001b[34m\u001b[1mwandb\u001b[0m: \tn_epochs: 15\n",
      "\u001b[34m\u001b[1mwandb\u001b[0m: \tvf_coef: 0.25\n",
      "\u001b[34m\u001b[1mwandb\u001b[0m: \u001b[33mWARNING\u001b[0m Ignored wandb.init() arg project when running a sweep.\n"
     ]
    },
    {
     "data": {
      "text/html": [
       "Tracking run with wandb version 0.15.12"
      ],
      "text/plain": [
       "<IPython.core.display.HTML object>"
      ]
     },
     "metadata": {},
     "output_type": "display_data"
    },
    {
     "data": {
      "text/html": [
       "Run data is saved locally in <code>C:\\Users\\user\\PycharmProjects\\Educational\\wandb\\run-20231101_201120-sssl2qv4</code>"
      ],
      "text/plain": [
       "<IPython.core.display.HTML object>"
      ]
     },
     "metadata": {},
     "output_type": "display_data"
    },
    {
     "data": {
      "text/html": [
       "Syncing run <strong><a href='https://wandb.ai/donalexs12/SFQsweep/runs/sssl2qv4' target=\"_blank\">winter-sweep-3</a></strong> to <a href='https://wandb.ai/donalexs12/SFQsweep' target=\"_blank\">Weights & Biases</a> (<a href='https://wandb.me/run' target=\"_blank\">docs</a>)<br/>Sweep page: <a href='https://wandb.ai/donalexs12/SFQsweep/sweeps/b8wy3uaa' target=\"_blank\">https://wandb.ai/donalexs12/SFQsweep/sweeps/b8wy3uaa</a>"
      ],
      "text/plain": [
       "<IPython.core.display.HTML object>"
      ]
     },
     "metadata": {},
     "output_type": "display_data"
    },
    {
     "data": {
      "text/html": [
       " View project at <a href='https://wandb.ai/donalexs12/SFQsweep' target=\"_blank\">https://wandb.ai/donalexs12/SFQsweep</a>"
      ],
      "text/plain": [
       "<IPython.core.display.HTML object>"
      ]
     },
     "metadata": {},
     "output_type": "display_data"
    },
    {
     "data": {
      "text/html": [
       " View sweep at <a href='https://wandb.ai/donalexs12/SFQsweep/sweeps/b8wy3uaa' target=\"_blank\">https://wandb.ai/donalexs12/SFQsweep/sweeps/b8wy3uaa</a>"
      ],
      "text/plain": [
       "<IPython.core.display.HTML object>"
      ]
     },
     "metadata": {},
     "output_type": "display_data"
    },
    {
     "data": {
      "text/html": [
       " View run at <a href='https://wandb.ai/donalexs12/SFQsweep/runs/sssl2qv4' target=\"_blank\">https://wandb.ai/donalexs12/SFQsweep/runs/sssl2qv4</a>"
      ],
      "text/plain": [
       "<IPython.core.display.HTML object>"
      ]
     },
     "metadata": {},
     "output_type": "display_data"
    },
    {
     "name": "stderr",
     "output_type": "stream",
     "text": [
      "C:\\Users\\user\\PycharmProjects\\Educational\\venv\\lib\\site-packages\\stable_baselines3\\ppo\\ppo.py:154: UserWarning: You have specified a mini-batch size of 216, but because the `RolloutBuffer` is of size `n_steps * n_envs = 28672`, after every 132 untruncated mini-batches, there will be a truncated mini-batch of size 160\n",
      "We recommend using a `batch_size` that is a factor of `n_steps * n_envs`.\n",
      "Info: (n_steps=2048 and n_envs=14)\n",
      "  warnings.warn(\n",
      "\u001b[34m\u001b[1mwandb\u001b[0m: \u001b[33mWARNING\u001b[0m When using several event log directories, please call `wandb.tensorboard.patch(root_logdir=\"...\")` before `wandb.init`\n"
     ]
    },
    {
     "data": {
      "text/html": [
       "Waiting for W&B process to finish... <strong style=\"color:green\">(success).</strong>"
      ],
      "text/plain": [
       "<IPython.core.display.HTML object>"
      ]
     },
     "metadata": {},
     "output_type": "display_data"
    },
    {
     "data": {
      "text/html": [
       "<style>\n",
       "    table.wandb td:nth-child(1) { padding: 0 10px; text-align: left ; width: auto;} td:nth-child(2) {text-align: left ; width: 100%}\n",
       "    .wandb-row { display: flex; flex-direction: row; flex-wrap: wrap; justify-content: flex-start; width: 100% }\n",
       "    .wandb-col { display: flex; flex-direction: column; flex-basis: 100%; flex: 1; padding: 10px; }\n",
       "    </style>\n",
       "<div class=\"wandb-row\"><div class=\"wandb-col\"><h3>Run history:</h3><br/><table class=\"wandb\"><tr><td>global_step</td><td>▁▁▁▁▂▂▂▂▂▃▃▃▃▃▃▄▄▄▄▄▅▅▅▅▅▅▆▆▆▆▆▇▇▇▇▇▇███</td></tr><tr><td>rollout/ep_len_mean</td><td>▁▁▁▁▁▁▁▁▁▁▁▁▁▁▁▁▁▁▁▁▁▁▁▁▁▁▁▁▁▁▁▁▁▁▁▁▁▁▁▁</td></tr><tr><td>rollout/ep_rew_mean</td><td>▁▁▁▁▁▁▁▁▁▁▁▁▁▁▁▁▁▁▁▁▁▁▁▁▁▁▁▁▁▁▁▁▁▁▁▁▁▁▁▁</td></tr><tr><td>time/fps</td><td>█▄▃▃▃▃▃▃▂▂▂▂▂▂▂▂▂▂▂▂▂▂▂▂▂▂▂▁▁▁▁▁▁▁▁▁▁▁▁▁</td></tr><tr><td>train/approx_kl</td><td>▁▁▁▁▁▁▁▁▁▁▁▁▁▁▁▁▁▁▁▁▁▁▁▁▁▁▁▁▁▁▁▁▁▁▁▁▁▁▁▁</td></tr><tr><td>train/clip_fraction</td><td>▁▁▁▁▁▁▁▁▁▁▁▁▁▁▁▁▁▁▁▁▁▁▁▁▁▁▁▁▁▁▁▁▁▁▁▁▁▁▁▁</td></tr><tr><td>train/clip_range</td><td>▁▁▁▁▁▁▁▁▁▁▁▁▁▁▁▁▁▁▁▁▁▁▁▁▁▁▁▁▁▁▁▁▁▁▁▁▁▁▁▁</td></tr><tr><td>train/entropy_loss</td><td>▁▁▁▁▁▁▁▁▁▁▁▁▁▁▁▁▁▁▁▁▁▁▁▁▁▁▁▁▁▁▁▁▁▁▁▁▁▁▁▁</td></tr><tr><td>train/explained_variance</td><td>▅▁█▅▅▅▅▅▅▅▅▅▅▅▅▅▅▅▅█▅▅▆█▅▅▅▅▅▅█▅▅█▅▅▁▁▅█</td></tr><tr><td>train/learning_rate</td><td>████▇▇▇▇▇▆▆▆▆▆▆▅▅▅▅▅▄▄▄▄▄▄▃▃▃▃▃▂▂▂▂▂▂▁▁▁</td></tr><tr><td>train/loss</td><td>█▇▂▅▄▂▄▇▄▃▄▄▃▅▆▅▆▄▅▅▅▄▄▅▂▃▂▅▃▄▃▅▃▆▂▂▁▁▃▄</td></tr><tr><td>train/policy_gradient_loss</td><td>▄▄▂▄▂▄▄▄▄▃▄▂▂▅▅▄▆▆▄▅▂▄▁▃▂▆▅▅▃▄▃█▃▆▇▅▅▁▄▃</td></tr><tr><td>train/value_loss</td><td>█▃▁▂▂▂▂▂▂▂▂▂▁▃▂▂▂▂▃▂▃▂▃▂▂▂▂▂▂▂▂▂▂▂▂▂▂▂▂▂</td></tr></table><br/></div><div class=\"wandb-col\"><h3>Run summary:</h3><br/><table class=\"wandb\"><tr><td>global_step</td><td>10006528</td></tr><tr><td>rollout/ep_len_mean</td><td>125.0</td></tr><tr><td>rollout/ep_rew_mean</td><td>66.62041</td></tr><tr><td>time/fps</td><td>3676.0</td></tr><tr><td>train/approx_kl</td><td>0.0</td></tr><tr><td>train/clip_fraction</td><td>0.0</td></tr><tr><td>train/clip_range</td><td>0.2</td></tr><tr><td>train/entropy_loss</td><td>-0.0</td></tr><tr><td>train/explained_variance</td><td>0.0</td></tr><tr><td>train/learning_rate</td><td>0.00022</td></tr><tr><td>train/loss</td><td>39.52085</td></tr><tr><td>train/policy_gradient_loss</td><td>-0.0</td></tr><tr><td>train/value_loss</td><td>80.09471</td></tr></table><br/></div></div>"
      ],
      "text/plain": [
       "<IPython.core.display.HTML object>"
      ]
     },
     "metadata": {},
     "output_type": "display_data"
    },
    {
     "data": {
      "text/html": [
       " View run <strong style=\"color:#cdcd00\">winter-sweep-3</strong> at: <a href='https://wandb.ai/donalexs12/SFQsweep/runs/sssl2qv4' target=\"_blank\">https://wandb.ai/donalexs12/SFQsweep/runs/sssl2qv4</a><br/>Synced 5 W&B file(s), 0 media file(s), 0 artifact file(s) and 2 other file(s)"
      ],
      "text/plain": [
       "<IPython.core.display.HTML object>"
      ]
     },
     "metadata": {},
     "output_type": "display_data"
    },
    {
     "data": {
      "text/html": [
       "Find logs at: <code>.\\wandb\\run-20231101_201120-sssl2qv4\\logs</code>"
      ],
      "text/plain": [
       "<IPython.core.display.HTML object>"
      ]
     },
     "metadata": {},
     "output_type": "display_data"
    },
    {
     "name": "stderr",
     "output_type": "stream",
     "text": [
      "\u001b[34m\u001b[1mwandb\u001b[0m: Agent Starting Run: lr41lvq5 with config:\n",
      "\u001b[34m\u001b[1mwandb\u001b[0m: \tbatch_size: 120\n",
      "\u001b[34m\u001b[1mwandb\u001b[0m: \tent_coef: 0.01\n",
      "\u001b[34m\u001b[1mwandb\u001b[0m: \tlearning_rate: 0.008940745028571761\n",
      "\u001b[34m\u001b[1mwandb\u001b[0m: \tn_epochs: 5\n",
      "\u001b[34m\u001b[1mwandb\u001b[0m: \tvf_coef: 0.5\n",
      "\u001b[34m\u001b[1mwandb\u001b[0m: \u001b[33mWARNING\u001b[0m Ignored wandb.init() arg project when running a sweep.\n"
     ]
    },
    {
     "data": {
      "text/html": [
       "Tracking run with wandb version 0.15.12"
      ],
      "text/plain": [
       "<IPython.core.display.HTML object>"
      ]
     },
     "metadata": {},
     "output_type": "display_data"
    },
    {
     "data": {
      "text/html": [
       "Run data is saved locally in <code>C:\\Users\\user\\PycharmProjects\\Educational\\wandb\\run-20231101_205709-lr41lvq5</code>"
      ],
      "text/plain": [
       "<IPython.core.display.HTML object>"
      ]
     },
     "metadata": {},
     "output_type": "display_data"
    },
    {
     "data": {
      "text/html": [
       "Syncing run <strong><a href='https://wandb.ai/donalexs12/SFQsweep/runs/lr41lvq5' target=\"_blank\">vibrant-sweep-4</a></strong> to <a href='https://wandb.ai/donalexs12/SFQsweep' target=\"_blank\">Weights & Biases</a> (<a href='https://wandb.me/run' target=\"_blank\">docs</a>)<br/>Sweep page: <a href='https://wandb.ai/donalexs12/SFQsweep/sweeps/b8wy3uaa' target=\"_blank\">https://wandb.ai/donalexs12/SFQsweep/sweeps/b8wy3uaa</a>"
      ],
      "text/plain": [
       "<IPython.core.display.HTML object>"
      ]
     },
     "metadata": {},
     "output_type": "display_data"
    },
    {
     "data": {
      "text/html": [
       " View project at <a href='https://wandb.ai/donalexs12/SFQsweep' target=\"_blank\">https://wandb.ai/donalexs12/SFQsweep</a>"
      ],
      "text/plain": [
       "<IPython.core.display.HTML object>"
      ]
     },
     "metadata": {},
     "output_type": "display_data"
    },
    {
     "data": {
      "text/html": [
       " View sweep at <a href='https://wandb.ai/donalexs12/SFQsweep/sweeps/b8wy3uaa' target=\"_blank\">https://wandb.ai/donalexs12/SFQsweep/sweeps/b8wy3uaa</a>"
      ],
      "text/plain": [
       "<IPython.core.display.HTML object>"
      ]
     },
     "metadata": {},
     "output_type": "display_data"
    },
    {
     "data": {
      "text/html": [
       " View run at <a href='https://wandb.ai/donalexs12/SFQsweep/runs/lr41lvq5' target=\"_blank\">https://wandb.ai/donalexs12/SFQsweep/runs/lr41lvq5</a>"
      ],
      "text/plain": [
       "<IPython.core.display.HTML object>"
      ]
     },
     "metadata": {},
     "output_type": "display_data"
    },
    {
     "name": "stderr",
     "output_type": "stream",
     "text": [
      "C:\\Users\\user\\PycharmProjects\\Educational\\venv\\lib\\site-packages\\stable_baselines3\\ppo\\ppo.py:154: UserWarning: You have specified a mini-batch size of 120, but because the `RolloutBuffer` is of size `n_steps * n_envs = 28672`, after every 238 untruncated mini-batches, there will be a truncated mini-batch of size 112\n",
      "We recommend using a `batch_size` that is a factor of `n_steps * n_envs`.\n",
      "Info: (n_steps=2048 and n_envs=14)\n",
      "  warnings.warn(\n",
      "\u001b[34m\u001b[1mwandb\u001b[0m: \u001b[33mWARNING\u001b[0m When using several event log directories, please call `wandb.tensorboard.patch(root_logdir=\"...\")` before `wandb.init`\n"
     ]
    }
   ],
   "source": [
    "wandb.agent(sweep_id, train_PPO, count=100)"
   ]
  },
  {
   "cell_type": "code",
   "execution_count": null,
   "id": "bdc79244-0918-47c4-b305-755576c80b2f",
   "metadata": {},
   "outputs": [],
   "source": []
  },
  {
   "cell_type": "code",
   "execution_count": null,
   "id": "033f49eb-ebbc-4bf7-9bf1-4b0476fa22d2",
   "metadata": {},
   "outputs": [],
   "source": []
  },
  {
   "cell_type": "code",
   "execution_count": null,
   "id": "aa97a5c5-f28a-467f-a28b-f136bbb522eb",
   "metadata": {},
   "outputs": [],
   "source": []
  },
  {
   "cell_type": "code",
   "execution_count": null,
   "id": "3fd4d429-8293-42bb-a324-657aede347c0",
   "metadata": {},
   "outputs": [],
   "source": []
  },
  {
   "cell_type": "code",
   "execution_count": null,
   "id": "0342e5cd-8f76-4781-8851-1bc8750619fb",
   "metadata": {},
   "outputs": [],
   "source": []
  },
  {
   "cell_type": "code",
   "execution_count": null,
   "id": "4e2581cd-2abf-40f3-bbd1-d4bf044715aa",
   "metadata": {},
   "outputs": [],
   "source": [
    "policy = ActorCriticPolicy(net_arch=dict(pi=[run_config.policy_layer_size, run_config.policy_layer_size],\n",
    "     vf=[run_config.value_layer_size, run_config.value_layer_size]))"
   ]
  }
 ],
 "metadata": {
  "kernelspec": {
   "display_name": "Python 3 (ipykernel)",
   "language": "python",
   "name": "python3"
  },
  "language_info": {
   "codemirror_mode": {
    "name": "ipython",
    "version": 3
   },
   "file_extension": ".py",
   "mimetype": "text/x-python",
   "name": "python",
   "nbconvert_exporter": "python",
   "pygments_lexer": "ipython3",
   "version": "3.9.13"
  }
 },
 "nbformat": 4,
 "nbformat_minor": 5
}
