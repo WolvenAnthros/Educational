{
 "cells": [
  {
   "cell_type": "code",
   "execution_count": 1,
   "id": "b567863d-3f33-42a7-b5b0-f8277972974d",
   "metadata": {},
   "outputs": [],
   "source": [
    "import argparse\n",
    "import os\n",
    "import random\n",
    "import time\n",
    "from distutils.util import strtobool\n",
    "import wandb\n",
    "import gymnasium as gym\n",
    "import numpy as np\n",
    "import torch\n",
    "import torch.nn as nn\n",
    "import torch.optim as optim\n",
    "from torch.distributions.categorical import Categorical\n",
    "from torch.utils.tensorboard import SummaryWriter\n",
    "from SFQenv import SFQ, max_sequence_length\n",
    "from SFQ_calc import reward_calculation #, reward_calculation_slow , u_matrix\n",
    "import multiprocessing as mp\n",
    "from pprint import pprint"
   ]
  },
  {
   "cell_type": "code",
   "execution_count": 2,
   "id": "afca5762-af09-48de-9bed-7460c952e8cf",
   "metadata": {},
   "outputs": [],
   "source": [
    "class dotdict(dict):\n",
    "    \"\"\"dot.notation access to dictionary attributes\"\"\"\n",
    "    __getattr__ = dict.get\n",
    "    __setattr__ = dict.__setitem__\n",
    "    __delattr__ = dict.__delitem__"
   ]
  },
  {
   "cell_type": "code",
   "execution_count": 3,
   "id": "c9e631fd-1845-4c24-ba5c-ee90fbea49ac",
   "metadata": {},
   "outputs": [],
   "source": [
    "# reward_calculation_jit = jit(reward_calculation)"
   ]
  },
  {
   "cell_type": "markdown",
   "id": "0ed20f19-0f1b-4516-b2d0-d996c9de67a2",
   "metadata": {},
   "source": [
    "### Hyperparameter setting"
   ]
  },
  {
   "cell_type": "code",
   "execution_count": 4,
   "id": "3deedff9-8418-4172-bbf8-e21937d0e409",
   "metadata": {},
   "outputs": [],
   "source": [
    "# args = {\n",
    "#     'seed':42,\n",
    "#     'exp_name': 'Test',\n",
    "#     'torch_deterministic':True,\n",
    "#     'cuda':False,\n",
    "#     'track': True,\n",
    "#     'wandb_project_name': 'Test',\n",
    "#     'wandb_entity': None,\n",
    "#     'capture_video': False,\n",
    "#     'env_id': \"CartPole-v1\",\n",
    "#     'total_timesteps':500000,\n",
    "#     'learning_rate': 2.5e-4,\n",
    "#     'num_envs' : 4,\n",
    "#     'num_steps': 125,\n",
    "#     'anneal_lr': True,\n",
    "#     'layer_size':64,\n",
    "#     'value_layer_size': 64,\n",
    "#     'gamma': 0.99,\n",
    "#     'gae_lambda': 0.95,\n",
    "#     'num_minibatches': 12,\n",
    "#     'update_epochs': 5,\n",
    "#     'norm_adv': True,\n",
    "#     'clip_coef': 0.2,\n",
    "#     'clip_vloss': True,\n",
    "#     'ent_coef': 0.01,\n",
    "#     'vf_coef': 0.5,\n",
    "#     'max_grad_norm': 0.5,\n",
    "#     'target_kl': None\n",
    "    \n",
    "# }\n",
    "# args = dotdict(args)\n"
   ]
  },
  {
   "cell_type": "code",
   "execution_count": 5,
   "id": "25974a76-212f-4226-90c2-438bacc91857",
   "metadata": {},
   "outputs": [],
   "source": [
    "default_config = {\n",
    "    'torch_deterministic': True,\n",
    "    'clip_coef': 0.2,\n",
    "    'anneal_lr': True,\n",
    "    'num_envs': 200,\n",
    "    'num_minibatches': 4,\n",
    "    'num_steps': 128,\n",
    "    'max_grad_norm': 0.5,\n",
    "    'clip_vloss' : True,\n",
    "    'seed': 42,\n",
    "    'env_id': 'SFQ',\n",
    "    'track': True,\n",
    "    'wandb_project_name': 'Test',\n",
    "    'exp_name': 'hyperparam_search',\n",
    "    'norm_adv': True,\n",
    "    'target_kl': None,\n",
    "    \n",
    "}\n",
    "default_config = dotdict(default_config)"
   ]
  },
  {
   "cell_type": "markdown",
   "id": "5abc5540-7ccc-4b72-a756-f9f8419b4f3b",
   "metadata": {},
   "source": [
    "### Sweep config"
   ]
  },
  {
   "cell_type": "code",
   "execution_count": 6,
   "id": "57d108bf-dca7-4132-961c-e01210663e24",
   "metadata": {},
   "outputs": [],
   "source": [
    "sweep_config = {\n",
    "    'method': 'random',\n",
    "    # 'early_terminate':{\n",
    "    #     'type':'hyperband',\n",
    "    #     'min_iter':1000,\n",
    "    # }\n",
    "    }\n",
    "\n",
    "metric = {\n",
    "    'name': \"charts/episodic_return\",\n",
    "    'goal': 'maximize',\n",
    "    # 'target':1\n",
    "    }\n",
    "\n",
    "sweep_config['metric'] = metric"
   ]
  },
  {
   "cell_type": "code",
   "execution_count": 7,
   "id": "ff27d350-70bf-47bb-a51e-a497c69cc675",
   "metadata": {},
   "outputs": [],
   "source": [
    "parameters_dict = {\n",
    "    'ent_coef': {\n",
    "        'values':  [0.00001, 0.0001, 0.001, 0.01]# [0.0001]\n",
    "    },\n",
    "    'layer_size': {\n",
    "        'values':  [64, 128, 256] #[256]\n",
    "    },\n",
    "    'vf_coef':{\n",
    "        # 'values': [0.25,0.5,0.75] #[0.75]\n",
    "        'distribution': 'q_uniform',\n",
    "        'min': 0.25,\n",
    "        'max': 0.75,\n",
    "        'q': 0.05\n",
    "    },\n",
    "    'update_epochs':{\n",
    "        # 'values': [4,5,7,10,12,15] #[7]\n",
    "        'distribution': 'q_uniform',\n",
    "        'min': 3,\n",
    "        'max': 10,\n",
    "        'q': 1\n",
    "    },\n",
    "    'gamma':{\n",
    "        # 'values': [0.99,0.95,0.999,0.9] #[0.9]\n",
    "        'distribution': 'q_uniform',\n",
    "        'min': 0.9,\n",
    "        'max': 0.99,\n",
    "        'q': 0.01\n",
    "    },\n",
    "    'gae_lambda':{\n",
    "        # 'values': [0.95,0.99,0.9] #[0.9]\n",
    "        'distribution': 'q_uniform',\n",
    "        'min': 0.9,\n",
    "        'max': 0.99,\n",
    "        'q': 0.01\n",
    "    },\n",
    "    # 'max_grad_norm' : {\n",
    "    #     'values': [0.5]\n",
    "    # },\n",
    "    # 'num_envs': {\n",
    "    #     'values':[4]\n",
    "    # },\n",
    "    # 'num_steps': {\n",
    "    #     'value':128\n",
    "    # },\n",
    "    # 'anneal_lr':{\n",
    "    #     'value': True\n",
    "    # },\n",
    "    # 'torch_deterministic':{\n",
    "    #     'value' : False #True\n",
    "    # },\n",
    "    # 'clip_coef':{\n",
    "    #     'value': 0.2\n",
    "    # },\n",
    "    #     'clip_vloss': {\n",
    "    #     'value': True\n",
    "    # }\n",
    "}\n",
    "parameters_dict.update({\n",
    "    'learning_rate': {\n",
    "        # a flat distribution between 0 and 0.1\n",
    "        'distribution': 'uniform',\n",
    "        'min': 0,\n",
    "        'max': 0.001\n",
    "        # 'value': 2.3e-4\n",
    "    },\n",
    "    # 'batch_size': {\n",
    "    #     'distribution': 'q_log_uniform_values',\n",
    "    #     'q': 8,\n",
    "    #     'min': 100,\n",
    "    #     'max': 512\n",
    "    # },\n",
    "    'total_timesteps':{\n",
    "        'distribution': 'q_uniform',\n",
    "        'q': 50000,\n",
    "        'min': 100000,\n",
    "        'max': 150000\n",
    "        # 'value':150000\n",
    "    },\n",
    "})"
   ]
  },
  {
   "cell_type": "code",
   "execution_count": 8,
   "id": "c274372c-00bf-4b1d-8150-07c2df68a7ef",
   "metadata": {},
   "outputs": [],
   "source": [
    "sweep_config['parameters']=parameters_dict"
   ]
  },
  {
   "cell_type": "code",
   "execution_count": 9,
   "id": "1fe2eb6f-4a96-4c08-b2c3-78ca3c9aad02",
   "metadata": {},
   "outputs": [
    {
     "data": {
      "text/plain": [
       "{'method': 'random',\n",
       " 'metric': {'name': 'charts/episodic_return', 'goal': 'maximize'},\n",
       " 'parameters': {'ent_coef': {'values': [1e-05, 0.0001, 0.001, 0.01]},\n",
       "  'layer_size': {'values': [64, 128, 256]},\n",
       "  'vf_coef': {'distribution': 'q_uniform',\n",
       "   'min': 0.25,\n",
       "   'max': 0.75,\n",
       "   'q': 0.05},\n",
       "  'update_epochs': {'distribution': 'q_uniform', 'min': 3, 'max': 10, 'q': 1},\n",
       "  'gamma': {'distribution': 'q_uniform', 'min': 0.9, 'max': 0.99, 'q': 0.01},\n",
       "  'gae_lambda': {'distribution': 'q_uniform',\n",
       "   'min': 0.9,\n",
       "   'max': 0.99,\n",
       "   'q': 0.01},\n",
       "  'learning_rate': {'distribution': 'uniform', 'min': 0, 'max': 0.001},\n",
       "  'total_timesteps': {'distribution': 'q_uniform',\n",
       "   'q': 50000,\n",
       "   'min': 100000,\n",
       "   'max': 150000}}}"
      ]
     },
     "execution_count": 9,
     "metadata": {},
     "output_type": "execute_result"
    }
   ],
   "source": [
    "sweep_config"
   ]
  },
  {
   "cell_type": "code",
   "execution_count": 10,
   "id": "d7941404-f780-4caf-ac0c-cb3d795cf226",
   "metadata": {},
   "outputs": [
    {
     "name": "stdout",
     "output_type": "stream",
     "text": [
      "Create sweep with ID: z2cwk0n6\n",
      "Sweep URL: https://wandb.ai/donalexs12/SFQenv/sweeps/z2cwk0n6\n"
     ]
    }
   ],
   "source": [
    "sweep_id = wandb.sweep(sweep=sweep_config, project=\"SFQenv\")"
   ]
  },
  {
   "cell_type": "code",
   "execution_count": 11,
   "id": "fb7034f8-5469-4abd-8b52-d2f7b59b7382",
   "metadata": {},
   "outputs": [],
   "source": [
    "def make_env():\n",
    "    def thunk():\n",
    "        env = SFQ()\n",
    "        env = gym.wrappers.RecordEpisodeStatistics(env)\n",
    "        # env.seed(seed)\n",
    "        return env\n",
    "\n",
    "    return thunk"
   ]
  },
  {
   "cell_type": "code",
   "execution_count": 12,
   "id": "08c254ca-8ae5-4fbb-bbc7-e67efb2c048f",
   "metadata": {},
   "outputs": [],
   "source": [
    "def layer_init(layer, std=np.sqrt(2), bias_const=0.0):\n",
    "    torch.nn.init.orthogonal_(layer.weight, std)\n",
    "    torch.nn.init.constant_(layer.bias, bias_const)\n",
    "    return layer\n"
   ]
  },
  {
   "cell_type": "markdown",
   "id": "ac887076-75d2-49e1-ae93-466afdc063fb",
   "metadata": {},
   "source": [
    "### Agent (neural network) class"
   ]
  },
  {
   "cell_type": "code",
   "execution_count": 13,
   "id": "cb1b82ba-84ad-46db-8747-17ed3bc96cb0",
   "metadata": {},
   "outputs": [],
   "source": [
    "class Agent(nn.Module):\n",
    "    def __init__(self, envs, layer_size):\n",
    "        super().__init__()\n",
    "        self.base = nn.Sequential(\n",
    "            layer_init(nn.Linear(np.array(envs.single_observation_space.shape).prod(), layer_size)),\n",
    "            nn.Tanh(),\n",
    "            layer_init(nn.Linear(layer_size, layer_size)),\n",
    "            nn.Tanh(),\n",
    "            \n",
    "        )\n",
    "        self.lstm = nn.LSTM(layer_size, layer_size)\n",
    "        for name, param in self.lstm.named_parameters():\n",
    "            if \"bias\" in name:\n",
    "                nn.init.constant_(param, 0)\n",
    "            elif \"weight\" in name:\n",
    "                nn.init.orthogonal_(param, 1.0)\n",
    "        self.critic = layer_init(nn.Linear(layer_size, 1), std=1.0)\n",
    "        self.actor = layer_init(nn.Linear(layer_size, envs.single_action_space.n), std=0.01)\n",
    "\n",
    "    def get_states(self, x, lstm_state, done):\n",
    "        hidden = self.base(x)\n",
    "        \n",
    "        batch_size = lstm_state[0].shape[1]\n",
    "        hidden = hidden.reshape((-1, batch_size, self.lstm.input_size))\n",
    "        done = done.reshape((-1, batch_size))\n",
    "        new_hidden = []\n",
    "        for h, d in zip(hidden, done):\n",
    "            h, lstm_state = self.lstm(\n",
    "                h.unsqueeze(0),\n",
    "                (\n",
    "                    (1.0 - d).view(1, -1, 1) * lstm_state[0],\n",
    "                    (1.0 - d).view(1, -1, 1) * lstm_state[1],\n",
    "                ),\n",
    "            )\n",
    "            new_hidden += [h]\n",
    "        new_hidden = torch.flatten(torch.cat(new_hidden), 0, 1)\n",
    "        return new_hidden, lstm_state\n",
    "\n",
    "    def get_value(self, x, lstm_state, done):\n",
    "        hidden, _ = self.get_states(x, lstm_state, done)\n",
    "        return self.critic(hidden)\n",
    "\n",
    "    def get_action_and_value(self, x, lstm_state,done,action=None):\n",
    "        hidden, lstm_state = self.get_states(x, lstm_state, done)\n",
    "        logits = self.actor(hidden)\n",
    "        probs = Categorical(logits=logits)\n",
    "        if action is None:\n",
    "            action = probs.sample()\n",
    "        return action, probs.log_prob(action), probs.entropy(), self.critic(hidden), lstm_state"
   ]
  },
  {
   "cell_type": "code",
   "execution_count": 14,
   "id": "ffa5d0d7-0136-4e30-aae6-0ea5e12e92a8",
   "metadata": {},
   "outputs": [],
   "source": [
    "run_name = f\"{default_config.env_id}__{default_config.exp_name}__{default_config.seed}__{int(time.time())}\""
   ]
  },
  {
   "cell_type": "markdown",
   "id": "33cf0d78-c9f8-4736-80a8-d680382aeb6e",
   "metadata": {},
   "source": [
    "### Env creation and seeding"
   ]
  },
  {
   "cell_type": "code",
   "execution_count": 15,
   "id": "556fc225-9af6-48a6-9761-8f48143ffc7a",
   "metadata": {},
   "outputs": [],
   "source": [
    "random.seed(default_config.seed)\n",
    "np.random.seed(default_config.seed)\n",
    "torch.manual_seed(default_config.seed)\n",
    "torch.backends.cudnn.deterministic = default_config.torch_deterministic\n",
    "\n",
    "device = torch.device(\"cuda\" if torch.cuda.is_available() else \"cpu\")"
   ]
  },
  {
   "cell_type": "code",
   "execution_count": 16,
   "id": "035eadc3-a60f-4a48-9eb2-59d1413d1b1e",
   "metadata": {},
   "outputs": [
    {
     "name": "stderr",
     "output_type": "stream",
     "text": [
      "/home/wolvenanthros/anaconda3/envs/SFQ/lib/python3.10/site-packages/gymnasium/spaces/box.py:130: UserWarning: \u001b[33mWARN: Box bound precision lowered by casting to float32\u001b[0m\n",
      "  gym.logger.warn(f\"Box bound precision lowered by casting to {self.dtype}\")\n"
     ]
    }
   ],
   "source": [
    "envs = gym.experimental.vector.SyncVectorEnv(\n",
    "    [make_env() for i in range(default_config.num_envs)]\n",
    ")\n",
    "assert isinstance(envs.single_action_space, gym.spaces.Discrete), \"only discrete action space is supported\""
   ]
  },
  {
   "cell_type": "code",
   "execution_count": 17,
   "id": "26555867-308a-41ab-94a5-9fa3098661a9",
   "metadata": {},
   "outputs": [],
   "source": [
    "agent = None # will be declared later in the code"
   ]
  },
  {
   "cell_type": "markdown",
   "id": "9d45d552-9577-4c9d-8b67-83246e5002a9",
   "metadata": {},
   "source": [
    "### Storage setup"
   ]
  },
  {
   "cell_type": "code",
   "execution_count": 18,
   "id": "2d20192e-aeea-4848-8425-db57ec58938a",
   "metadata": {},
   "outputs": [],
   "source": [
    "obs = torch.zeros((default_config.num_steps, default_config.num_envs) + envs.single_observation_space.shape).to(device)\n",
    "actions = torch.zeros((default_config.num_steps, default_config.num_envs) + envs.single_action_space.shape).to(device)\n",
    "logprobs = torch.zeros((default_config.num_steps, default_config.num_envs)).to(device)\n",
    "rewards = torch.zeros((default_config.num_steps, default_config.num_envs)).to(device)\n",
    "dones = torch.zeros((default_config.num_steps, default_config.num_envs)).to(device)\n",
    "values = torch.zeros((default_config.num_steps, default_config.num_envs)).to(device)"
   ]
  },
  {
   "cell_type": "markdown",
   "id": "41ec854f-5e26-49f7-9541-f2143b839344",
   "metadata": {},
   "source": [
    "### Game start"
   ]
  },
  {
   "cell_type": "markdown",
   "id": "82227cbd-08ba-480d-9eee-6a9abbb787f4",
   "metadata": {},
   "source": [
    ">ПОПРОБОВАТЬ ВЫНЕСТИ КОНФИГУРИРУЕМЫЕ СВИПОМ ПАРАМЕТРЫ ЗА ПРЕДЕЛЫ ЦИКЛА"
   ]
  },
  {
   "cell_type": "markdown",
   "id": "3fb0b4a6-7afa-4412-8e05-4c9b2d0b051a",
   "metadata": {},
   "source": [
    "### Playing cycle"
   ]
  },
  {
   "cell_type": "code",
   "execution_count": 19,
   "id": "2bbc6b16-f8b4-4cd4-bf5e-019882c2d015",
   "metadata": {},
   "outputs": [],
   "source": [
    "def train_PPO(config=default_config):\n",
    "    with wandb.init(config=config,\n",
    "                        sync_tensorboard=True,\n",
    "                        project='SFQ_hyperparam'):\n",
    "\n",
    "        writer = SummaryWriter(f\"runs/{run_name}\")\n",
    "        writer.add_text(\n",
    "            \"hyperparameters\",\n",
    "            \"|param|value|\\n|-|-|\\n%s\" % (\"\\n\".join([f\"|{key}|{value}|\" for key, value in vars(config).items()])),\n",
    "        )\n",
    "\n",
    "        config = wandb.config\n",
    "        \n",
    "        config.batch_size = int(config.num_envs * config.num_steps)\n",
    "        config.minibatch_size = int(config.batch_size // default_config.num_minibatches)\n",
    "        agent = Agent(envs, config.layer_size).to(device)\n",
    "        # agent = Agent(envs).to(device)\n",
    "\n",
    "        global_step = 0\n",
    "        start_time = time.time()\n",
    "        \n",
    "        next_done = torch.zeros(config.num_envs).to(device)\n",
    "        next_obs = torch.Tensor(envs.reset()[0]).to(device)\n",
    "        num_updates = config.total_timesteps // config.batch_size\n",
    "        next_lstm_state = (\n",
    "        torch.zeros(agent.lstm.num_layers, default_config.num_envs, agent.lstm.hidden_size).to(device),\n",
    "        torch.zeros(agent.lstm.num_layers, default_config.num_envs, agent.lstm.hidden_size).to(device),)  \n",
    "        # hidden and cell states (see https://youtu.be/8HyCNIVRbSU)\n",
    "        optimizer = optim.Adam(agent.parameters(), lr=config.learning_rate, eps=1e-5)\n",
    "\n",
    "        total_return = 0.9\n",
    "        for update in range(1, num_updates + 1):\n",
    "            initial_lstm_state = (next_lstm_state[0].clone(), next_lstm_state[1].clone())\n",
    "            # Annealing the rate if instructed to do so.\n",
    "            if default_config.anneal_lr:\n",
    "                frac = 1.0 - (update - 1.0) / num_updates\n",
    "                lrnow = frac * config.learning_rate\n",
    "                optimizer.param_groups[0][\"lr\"] = lrnow\n",
    "        \n",
    "            for step in range(0, config.num_steps):\n",
    "                global_step += 1 * config.num_envs\n",
    "                obs[step] = torch.Tensor(next_obs).to(device)\n",
    "                dones[step] = next_done\n",
    "        \n",
    "                # ALGO LOGIC: action logic\n",
    "                with torch.no_grad():\n",
    "                    action, logprob, _, value, next_lstm_state = agent.get_action_and_value(next_obs,\n",
    "                                                                                           next_lstm_state,\n",
    "                                                                                           next_done)\n",
    "                    values[step] = value.flatten()\n",
    "                actions[step] = action\n",
    "                logprobs[step] = logprob\n",
    "        \n",
    "                # TRY NOT TO MODIFY: execute the game and log data.\n",
    "                next_obs, reward, done,terminated, info = envs.step(action.cpu().numpy())\n",
    "                next_done = np.logical_or(done,terminated)\n",
    "                rewards[step] = torch.tensor(reward).to(device).view(-1)\n",
    "                next_obs, next_done = torch.Tensor(next_obs).to(device), torch.Tensor(next_done).to(device)\n",
    "\n",
    "                \n",
    "                if 'final_info' in info.keys():\n",
    "                    for item in info['final_info']:\n",
    "                        if item is not None:\n",
    "                            #print(f\"global_step={global_step}, episodic_return={item['episode']['r']}, episode_length = {max_sequence_length}\")\n",
    "                            writer.add_scalar(\"charts/fidelity\", item['fidelity'], global_step)\n",
    "                            current_return = item['fidelity']\n",
    "                            writer.add_scalar(\"charts/episodic_return\", item[\"episode\"][\"r\"], global_step)\n",
    "                            writer.add_scalar(\"charts/episodic_length\", item[\"episode\"][\"l\"], global_step)\n",
    "                            if current_return > total_return:\n",
    "                                total_return = current_return\n",
    "                                # torch.save(agent.state_dict(),f'model_fid{current_return:.3f}.pt')\n",
    "                            break\n",
    "               \n",
    "                # bootstrap value if not done\n",
    "            with torch.no_grad():\n",
    "                next_value = agent.get_value(next_obs,\n",
    "                                            next_lstm_state,\n",
    "                                            next_done).reshape(1, -1)\n",
    "                advantages = torch.zeros_like(rewards).to(device)\n",
    "                lastgaelam = 0\n",
    "                for t in reversed(range(config.num_steps)):\n",
    "                    if t == config.num_steps - 1:\n",
    "                        nextnonterminal = 1.0 - next_done\n",
    "                        nextvalues = next_value\n",
    "                    else:\n",
    "                        nextnonterminal = 1.0 - dones[t + 1]\n",
    "                        nextvalues = values[t + 1]\n",
    "                    delta = rewards[t] + config.gamma * nextvalues * nextnonterminal - values[t]\n",
    "                    advantages[t] = lastgaelam = delta + config.gamma * config.gae_lambda * nextnonterminal * lastgaelam\n",
    "                returns = advantages + values\n",
    "    \n",
    "            # flatten the batch\n",
    "            b_obs = obs.reshape((-1,) + envs.single_observation_space.shape)\n",
    "            b_logprobs = logprobs.reshape(-1)\n",
    "            b_actions = actions.reshape((-1,) + envs.single_action_space.shape)\n",
    "            b_dones = dones.reshape(-1)\n",
    "            b_advantages = advantages.reshape(-1)\n",
    "            b_returns = returns.reshape(-1)\n",
    "            b_values = values.reshape(-1)\n",
    "    \n",
    "            # Optimizing the policy and value network\n",
    "            assert default_config.num_envs % default_config.num_minibatches == 0\n",
    "            envsperbatch = default_config.num_envs // default_config.num_minibatches\n",
    "            envinds = np.arange(default_config.num_envs)\n",
    "            flatinds = np.arange(config.batch_size).reshape(config.num_steps, default_config.num_envs)\n",
    "            # b_inds = np.arange(config.batch_size)\n",
    "            clipfracs = []\n",
    "            for epoch in range(config.update_epochs):\n",
    "                np.random.shuffle(envinds)\n",
    "                for start in range(0, default_config.num_envs, envsperbatch):\n",
    "                    end = start + envsperbatch\n",
    "                    mbenvinds = envinds[start:end]\n",
    "                    mb_inds = flatinds[:, mbenvinds].ravel()  # be really careful about the index\n",
    "                    \n",
    "                    _, newlogprob, entropy, newvalue, _ = agent.get_action_and_value(\n",
    "                        b_obs[mb_inds], \n",
    "                        (initial_lstm_state[0][:, mbenvinds],initial_lstm_state[1][:,mbenvinds]),\n",
    "                        b_dones[mb_inds],\n",
    "                        b_actions.long()[mb_inds]\n",
    "                    )\n",
    "                    logratio = newlogprob - b_logprobs[mb_inds]\n",
    "                    ratio = logratio.exp()\n",
    "    \n",
    "                    with torch.no_grad():\n",
    "                        # calculate approx_kl http://joschu.net/blog/kl-approx.html\n",
    "                        old_approx_kl = (-logratio).mean()\n",
    "                        approx_kl = ((ratio - 1) - logratio).mean()\n",
    "                        clipfracs += [((ratio - 1.0).abs() > config.clip_coef).float().mean().item()]\n",
    "    \n",
    "                    mb_advantages = b_advantages[mb_inds]\n",
    "                    if config.norm_adv:\n",
    "                        mb_advantages = (mb_advantages - mb_advantages.mean()) / (mb_advantages.std() + 1e-8)\n",
    "    \n",
    "                    # Policy loss\n",
    "                    pg_loss1 = -mb_advantages * ratio\n",
    "                    pg_loss2 = -mb_advantages * torch.clamp(ratio, 1 - config.clip_coef, 1 + config.clip_coef)\n",
    "                    pg_loss = torch.max(pg_loss1, pg_loss2).mean()\n",
    "    \n",
    "                    # Value loss\n",
    "                    newvalue = newvalue.view(-1)\n",
    "                    if config.clip_vloss:\n",
    "                        v_loss_unclipped = (newvalue - b_returns[mb_inds]) ** 2\n",
    "                        v_clipped = b_values[mb_inds] + torch.clamp(\n",
    "                            newvalue - b_values[mb_inds],\n",
    "                            -config.clip_coef,\n",
    "                            config.clip_coef,\n",
    "                        )\n",
    "                        v_loss_clipped = (v_clipped - b_returns[mb_inds]) ** 2\n",
    "                        v_loss_max = torch.max(v_loss_unclipped, v_loss_clipped)\n",
    "                        v_loss = 0.5 * v_loss_max.mean()\n",
    "                    else:\n",
    "                        v_loss = 0.5 * ((newvalue - b_returns[mb_inds]) ** 2).mean()\n",
    "    \n",
    "                    entropy_loss = entropy.mean()\n",
    "                    loss = pg_loss - config.ent_coef * entropy_loss + v_loss * config.vf_coef\n",
    "    \n",
    "                    optimizer.zero_grad()\n",
    "                    loss.backward()\n",
    "                    nn.utils.clip_grad_norm_(agent.parameters(), config.max_grad_norm)\n",
    "                    optimizer.step()\n",
    "    \n",
    "                if config.target_kl is not None:\n",
    "                    if approx_kl > config.target_kl:\n",
    "                        break\n",
    "        \n",
    "            y_pred, y_true = b_values.cpu().numpy(), b_returns.cpu().numpy()\n",
    "            var_y = np.var(y_true)\n",
    "            explained_var = np.nan if var_y == 0 else 1 - np.var(y_true - y_pred) / var_y\n",
    "    \n",
    "            # TRY NOT TO MODIFY: record rewards for plotting purposes\n",
    "            writer.add_scalar(\"charts/learning_rate\", optimizer.param_groups[0][\"lr\"], global_step)\n",
    "            writer.add_scalar(\"losses/value_loss\", v_loss.item(), global_step)\n",
    "            writer.add_scalar(\"losses/policy_loss\", pg_loss.item(), global_step)\n",
    "            writer.add_scalar(\"losses/entropy\", entropy_loss.item(), global_step)\n",
    "            writer.add_scalar(\"losses/old_approx_kl\", old_approx_kl.item(), global_step)\n",
    "            writer.add_scalar(\"losses/approx_kl\", approx_kl.item(), global_step)\n",
    "            writer.add_scalar(\"losses/clipfrac\", np.mean(clipfracs), global_step)\n",
    "            writer.add_scalar(\"losses/explained_variance\", explained_var, global_step)\n",
    "            #print(\"SPS:\", int(global_step / (time.time() - start_time)))\n",
    "            writer.add_scalar(\"charts/SPS\", int(global_step / (time.time() - start_time)), global_step)\n",
    "    envs.close()\n",
    "    writer.close()"
   ]
  },
  {
   "cell_type": "code",
   "execution_count": null,
   "id": "89e88c6e-50bc-4a9a-95dd-7cc8a0bffada",
   "metadata": {},
   "outputs": [
    {
     "name": "stderr",
     "output_type": "stream",
     "text": [
      "\u001b[34m\u001b[1mwandb\u001b[0m: Agent Starting Run: 9zbfu1fu with config:\n",
      "\u001b[34m\u001b[1mwandb\u001b[0m: \tent_coef: 0.001\n",
      "\u001b[34m\u001b[1mwandb\u001b[0m: \tgae_lambda: 0.92\n",
      "\u001b[34m\u001b[1mwandb\u001b[0m: \tgamma: 0.93\n",
      "\u001b[34m\u001b[1mwandb\u001b[0m: \tlayer_size: 256\n",
      "\u001b[34m\u001b[1mwandb\u001b[0m: \tlearning_rate: 0.0006576864420961041\n",
      "\u001b[34m\u001b[1mwandb\u001b[0m: \ttotal_timesteps: 150000\n",
      "\u001b[34m\u001b[1mwandb\u001b[0m: \tupdate_epochs: 5\n",
      "\u001b[34m\u001b[1mwandb\u001b[0m: \tvf_coef: 0.5\n",
      "\u001b[34m\u001b[1mwandb\u001b[0m: Currently logged in as: \u001b[33mdonalexs12\u001b[0m. Use \u001b[1m`wandb login --relogin`\u001b[0m to force relogin\n",
      "\u001b[34m\u001b[1mwandb\u001b[0m: \u001b[33mWARNING\u001b[0m Ignored wandb.init() arg project when running a sweep.\n"
     ]
    },
    {
     "data": {
      "text/html": [
       "Tracking run with wandb version 0.16.1"
      ],
      "text/plain": [
       "<IPython.core.display.HTML object>"
      ]
     },
     "metadata": {},
     "output_type": "display_data"
    },
    {
     "data": {
      "text/html": [
       "Run data is saved locally in <code>/home/wolvenanthros/PycharmProjects/Educational/wandb/run-20231215_060158-9zbfu1fu</code>"
      ],
      "text/plain": [
       "<IPython.core.display.HTML object>"
      ]
     },
     "metadata": {},
     "output_type": "display_data"
    },
    {
     "data": {
      "text/html": [
       "Syncing run <strong><a href='https://wandb.ai/donalexs12/SFQenv/runs/9zbfu1fu' target=\"_blank\">atomic-sweep-1</a></strong> to <a href='https://wandb.ai/donalexs12/SFQenv' target=\"_blank\">Weights & Biases</a> (<a href='https://wandb.me/run' target=\"_blank\">docs</a>)<br/>Sweep page: <a href='https://wandb.ai/donalexs12/SFQenv/sweeps/z2cwk0n6' target=\"_blank\">https://wandb.ai/donalexs12/SFQenv/sweeps/z2cwk0n6</a>"
      ],
      "text/plain": [
       "<IPython.core.display.HTML object>"
      ]
     },
     "metadata": {},
     "output_type": "display_data"
    },
    {
     "data": {
      "text/html": [
       " View project at <a href='https://wandb.ai/donalexs12/SFQenv' target=\"_blank\">https://wandb.ai/donalexs12/SFQenv</a>"
      ],
      "text/plain": [
       "<IPython.core.display.HTML object>"
      ]
     },
     "metadata": {},
     "output_type": "display_data"
    },
    {
     "data": {
      "text/html": [
       " View sweep at <a href='https://wandb.ai/donalexs12/SFQenv/sweeps/z2cwk0n6' target=\"_blank\">https://wandb.ai/donalexs12/SFQenv/sweeps/z2cwk0n6</a>"
      ],
      "text/plain": [
       "<IPython.core.display.HTML object>"
      ]
     },
     "metadata": {},
     "output_type": "display_data"
    },
    {
     "data": {
      "text/html": [
       " View run at <a href='https://wandb.ai/donalexs12/SFQenv/runs/9zbfu1fu' target=\"_blank\">https://wandb.ai/donalexs12/SFQenv/runs/9zbfu1fu</a>"
      ],
      "text/plain": [
       "<IPython.core.display.HTML object>"
      ]
     },
     "metadata": {},
     "output_type": "display_data"
    },
    {
     "name": "stderr",
     "output_type": "stream",
     "text": [
      "Traceback (most recent call last):\n",
      "  File \"/tmp/ipykernel_30392/1133302147.py\", line 65, in train_PPO\n",
      "    writer.add_scalar(\"charts/fidelity\", item['fidelity'], global_step)\n",
      "  File \"/home/wolvenanthros/anaconda3/envs/SFQ/lib/python3.10/site-packages/torch/utils/tensorboard/writer.py\", line 389, in add_scalar\n",
      "    from caffe2.python import workspace\n",
      "ModuleNotFoundError: No module named 'caffe2'\n"
     ]
    },
    {
     "data": {
      "application/vnd.jupyter.widget-view+json": {
       "model_id": "",
       "version_major": 2,
       "version_minor": 0
      },
      "text/plain": [
       "VBox(children=(Label(value='0.003 MB of 0.003 MB uploaded\\r'), FloatProgress(value=1.0, max=1.0)))"
      ]
     },
     "metadata": {},
     "output_type": "display_data"
    },
    {
     "data": {
      "text/html": [
       "<style>\n",
       "    table.wandb td:nth-child(1) { padding: 0 10px; text-align: left ; width: auto;} td:nth-child(2) {text-align: left ; width: 100%}\n",
       "    .wandb-row { display: flex; flex-direction: row; flex-wrap: wrap; justify-content: flex-start; width: 100% }\n",
       "    .wandb-col { display: flex; flex-direction: column; flex-basis: 100%; flex: 1; padding: 10px; }\n",
       "    </style>\n",
       "<div class=\"wandb-row\"><div class=\"wandb-col\"><h3>Run history:</h3><br/><table class=\"wandb\"><tr><td>global_step</td><td>▁</td></tr></table><br/></div><div class=\"wandb-col\"><h3>Run summary:</h3><br/><table class=\"wandb\"><tr><td>global_step</td><td>0</td></tr></table><br/></div></div>"
      ],
      "text/plain": [
       "<IPython.core.display.HTML object>"
      ]
     },
     "metadata": {},
     "output_type": "display_data"
    },
    {
     "data": {
      "text/html": [
       " View run <strong style=\"color:#cdcd00\">atomic-sweep-1</strong> at: <a href='https://wandb.ai/donalexs12/SFQenv/runs/9zbfu1fu' target=\"_blank\">https://wandb.ai/donalexs12/SFQenv/runs/9zbfu1fu</a><br/>Synced 6 W&B file(s), 0 media file(s), 0 artifact file(s) and 1 other file(s)"
      ],
      "text/plain": [
       "<IPython.core.display.HTML object>"
      ]
     },
     "metadata": {},
     "output_type": "display_data"
    },
    {
     "data": {
      "text/html": [
       "Find logs at: <code>./wandb/run-20231215_060158-9zbfu1fu/logs</code>"
      ],
      "text/plain": [
       "<IPython.core.display.HTML object>"
      ]
     },
     "metadata": {},
     "output_type": "display_data"
    },
    {
     "name": "stderr",
     "output_type": "stream",
     "text": [
      "Run 9zbfu1fu errored: ModuleNotFoundError(\"No module named 'caffe2'\")\n",
      "\u001b[34m\u001b[1mwandb\u001b[0m: \u001b[32m\u001b[41mERROR\u001b[0m Run 9zbfu1fu errored: ModuleNotFoundError(\"No module named 'caffe2'\")\n",
      "\u001b[34m\u001b[1mwandb\u001b[0m: Agent Starting Run: uvmd159y with config:\n",
      "\u001b[34m\u001b[1mwandb\u001b[0m: \tent_coef: 0.0001\n",
      "\u001b[34m\u001b[1mwandb\u001b[0m: \tgae_lambda: 0.91\n",
      "\u001b[34m\u001b[1mwandb\u001b[0m: \tgamma: 0.95\n",
      "\u001b[34m\u001b[1mwandb\u001b[0m: \tlayer_size: 64\n",
      "\u001b[34m\u001b[1mwandb\u001b[0m: \tlearning_rate: 0.00019099562787261348\n",
      "\u001b[34m\u001b[1mwandb\u001b[0m: \ttotal_timesteps: 100000\n",
      "\u001b[34m\u001b[1mwandb\u001b[0m: \tupdate_epochs: 9\n",
      "\u001b[34m\u001b[1mwandb\u001b[0m: \tvf_coef: 0.5\n",
      "\u001b[34m\u001b[1mwandb\u001b[0m: \u001b[33mWARNING\u001b[0m Ignored wandb.init() arg project when running a sweep.\n"
     ]
    }
   ],
   "source": [
    "wandb.agent(sweep_id, train_PPO, count=10)"
   ]
  },
  {
   "cell_type": "markdown",
   "id": "a9245f9d-a4cd-4eba-b07e-a4ca9ce7b002",
   "metadata": {},
   "source": [
    "class SelfImitation():\n",
    "    def __init__(self,model_obs,model_values,model_entropy,value,neg_log_prob,action_space\n",
    "                ,reward,obs,n_envs,batch_size,n_updates,clip,w_value,w_entropy,\n",
    "                max_steps,gamma,max_nlogp,min_batch_size,stack,alpha,beta):\n",
    "            self.model_ob = model_obs\n",
    "            self.model_vf = model_values\n",
    "            self.model_entropy = model_entropy\n",
    "            self.fn_value = value\n",
    "            self.fn_neg_log_prob = neg_log_prob\n",
    "            self.fn_reward = reward\n",
    "            self.fn_obs = obs\n",
    "    \n",
    "            self.beta = beta\n",
    "            self.buffer = PrioritizedReplayBuffer(max_steps, alpha)\n",
    "            self.n_env = n_env\n",
    "            self.batch_size = batch_size\n",
    "            self.n_update = n_update\n",
    "            self.clip = clip\n",
    "            self.w_loss = 1.0\n",
    "            self.w_value = w_value\n",
    "            self.w_entropy = w_entropy\n",
    "            self.max_steps = max_steps\n",
    "            self.gamma = gamma\n",
    "            self.max_nlogp = max_nlogp\n",
    "            self.min_batch_size = min_batch_size\n",
    "    \n",
    "            self.stack = stack\n",
    "            self.train_count = 0\n",
    "            self.update_count = 0\n",
    "            self.total_steps = []\n",
    "            self.total_rewards = []\n",
    "            self.running_episodes = [[] for _ in range(n_env)]\n",
    "\n",
    "            self.build_loss_op()\n",
    "\n",
    "        def build_loss_op(self, params, optim, lr, max_grad_norm=0.5):\n",
    "            mask = torch.where(self.R - torch.squeeze(self.model_vf) > 0.0,\n",
    "                               torch.ones_like(self.R),\n",
    "                              torch.zeros_like(self.R))\n",
    "            self.num_valid_samples = torch.sum(mask)\n",
    "            self.num_samples = torch.max(self.num_valid_samples, self.min_batch_size)\n",
    "            "
   ]
  }
 ],
 "metadata": {
  "kernelspec": {
   "display_name": "Python 3 (ipykernel)",
   "language": "python",
   "name": "python3"
  },
  "language_info": {
   "codemirror_mode": {
    "name": "ipython",
    "version": 3
   },
   "file_extension": ".py",
   "mimetype": "text/x-python",
   "name": "python",
   "nbconvert_exporter": "python",
   "pygments_lexer": "ipython3",
   "version": "3.10.13"
  }
 },
 "nbformat": 4,
 "nbformat_minor": 5
}
